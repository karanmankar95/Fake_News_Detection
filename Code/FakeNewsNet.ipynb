{
 "cells": [
  {
   "cell_type": "code",
   "execution_count": 2,
   "metadata": {},
   "outputs": [],
   "source": [
    "import pandas as pd\n",
    "import numpy as np"
   ]
  },
  {
   "cell_type": "code",
   "execution_count": 5,
   "metadata": {},
   "outputs": [],
   "source": [
    "df = pd.read_csv(\"C://Users//manka//Downloads//politifact_fake.csv\", index_col=0)"
   ]
  },
  {
   "cell_type": "code",
   "execution_count": 6,
   "metadata": {},
   "outputs": [
    {
     "data": {
      "text/html": [
       "<div>\n",
       "<style scoped>\n",
       "    .dataframe tbody tr th:only-of-type {\n",
       "        vertical-align: middle;\n",
       "    }\n",
       "\n",
       "    .dataframe tbody tr th {\n",
       "        vertical-align: top;\n",
       "    }\n",
       "\n",
       "    .dataframe thead th {\n",
       "        text-align: right;\n",
       "    }\n",
       "</style>\n",
       "<table border=\"1\" class=\"dataframe\">\n",
       "  <thead>\n",
       "    <tr style=\"text-align: right;\">\n",
       "      <th></th>\n",
       "      <th>news_url</th>\n",
       "      <th>title</th>\n",
       "      <th>tweet_ids</th>\n",
       "    </tr>\n",
       "    <tr>\n",
       "      <th>id</th>\n",
       "      <th></th>\n",
       "      <th></th>\n",
       "      <th></th>\n",
       "    </tr>\n",
       "  </thead>\n",
       "  <tbody>\n",
       "    <tr>\n",
       "      <td>politifact15014</td>\n",
       "      <td>speedtalk.com/forum/viewtopic.php?t=51650</td>\n",
       "      <td>BREAKING: First NFL Team Declares Bankruptcy O...</td>\n",
       "      <td>937349434668498944\\t937379378006282240\\t937380...</td>\n",
       "    </tr>\n",
       "    <tr>\n",
       "      <td>politifact15156</td>\n",
       "      <td>politics2020.info/index.php/2018/03/13/court-o...</td>\n",
       "      <td>Court Orders Obama To Pay $400 Million In Rest...</td>\n",
       "      <td>972666281441878016\\t972678396575559680\\t972827...</td>\n",
       "    </tr>\n",
       "    <tr>\n",
       "      <td>politifact14745</td>\n",
       "      <td>www.nscdscamps.org/blog/category/parenting/467...</td>\n",
       "      <td>UPDATE: Second Roy Moore Accuser Works For Mic...</td>\n",
       "      <td>929405740732870656\\t929439450400264192\\t929439...</td>\n",
       "    </tr>\n",
       "    <tr>\n",
       "      <td>politifact14355</td>\n",
       "      <td>https://howafrica.com/oscar-pistorius-attempts...</td>\n",
       "      <td>Oscar Pistorius Attempts To Commit Suicide</td>\n",
       "      <td>886941526458347521\\t887011300278194176\\t887023...</td>\n",
       "    </tr>\n",
       "    <tr>\n",
       "      <td>politifact15371</td>\n",
       "      <td>http://washingtonsources.org/trump-votes-for-d...</td>\n",
       "      <td>Trump Votes For Death Penalty For Being Gay</td>\n",
       "      <td>915205698212040704\\t915242076681506816\\t915249...</td>\n",
       "    </tr>\n",
       "  </tbody>\n",
       "</table>\n",
       "</div>"
      ],
      "text/plain": [
       "                                                          news_url  \\\n",
       "id                                                                   \n",
       "politifact15014          speedtalk.com/forum/viewtopic.php?t=51650   \n",
       "politifact15156  politics2020.info/index.php/2018/03/13/court-o...   \n",
       "politifact14745  www.nscdscamps.org/blog/category/parenting/467...   \n",
       "politifact14355  https://howafrica.com/oscar-pistorius-attempts...   \n",
       "politifact15371  http://washingtonsources.org/trump-votes-for-d...   \n",
       "\n",
       "                                                             title  \\\n",
       "id                                                                   \n",
       "politifact15014  BREAKING: First NFL Team Declares Bankruptcy O...   \n",
       "politifact15156  Court Orders Obama To Pay $400 Million In Rest...   \n",
       "politifact14745  UPDATE: Second Roy Moore Accuser Works For Mic...   \n",
       "politifact14355         Oscar Pistorius Attempts To Commit Suicide   \n",
       "politifact15371        Trump Votes For Death Penalty For Being Gay   \n",
       "\n",
       "                                                         tweet_ids  \n",
       "id                                                                  \n",
       "politifact15014  937349434668498944\\t937379378006282240\\t937380...  \n",
       "politifact15156  972666281441878016\\t972678396575559680\\t972827...  \n",
       "politifact14745  929405740732870656\\t929439450400264192\\t929439...  \n",
       "politifact14355  886941526458347521\\t887011300278194176\\t887023...  \n",
       "politifact15371  915205698212040704\\t915242076681506816\\t915249...  "
      ]
     },
     "execution_count": 6,
     "metadata": {},
     "output_type": "execute_result"
    }
   ],
   "source": [
    "df.head()"
   ]
  },
  {
   "cell_type": "code",
   "execution_count": 94,
   "metadata": {},
   "outputs": [
    {
     "name": "stdout",
     "output_type": "stream",
     "text": [
      "<class 'pandas.core.frame.DataFrame'>\n",
      "RangeIndex: 16817 entries, 0 to 16816\n",
      "Data columns (total 4 columns):\n",
      "id           16817 non-null object\n",
      "news_url     16804 non-null object\n",
      "title        16817 non-null object\n",
      "tweet_ids    15759 non-null object\n",
      "dtypes: object(4)\n",
      "memory usage: 525.7+ KB\n"
     ]
    }
   ],
   "source": [
    "df.info()"
   ]
  },
  {
   "cell_type": "code",
   "execution_count": 72,
   "metadata": {},
   "outputs": [
    {
     "data": {
      "text/plain": [
       "624"
      ]
     },
     "execution_count": 72,
     "metadata": {},
     "output_type": "execute_result"
    }
   ],
   "source": [
    "len(df.index)"
   ]
  },
  {
   "cell_type": "code",
   "execution_count": 95,
   "metadata": {},
   "outputs": [
    {
     "data": {
      "text/html": [
       "<div>\n",
       "<style scoped>\n",
       "    .dataframe tbody tr th:only-of-type {\n",
       "        vertical-align: middle;\n",
       "    }\n",
       "\n",
       "    .dataframe tbody tr th {\n",
       "        vertical-align: top;\n",
       "    }\n",
       "\n",
       "    .dataframe thead th {\n",
       "        text-align: right;\n",
       "    }\n",
       "</style>\n",
       "<table border=\"1\" class=\"dataframe\">\n",
       "  <thead>\n",
       "    <tr style=\"text-align: right;\">\n",
       "      <th></th>\n",
       "      <th>id</th>\n",
       "      <th>news_url</th>\n",
       "      <th>title</th>\n",
       "      <th>tweet_ids</th>\n",
       "    </tr>\n",
       "  </thead>\n",
       "  <tbody>\n",
       "    <tr>\n",
       "      <td>0</td>\n",
       "      <td>gossipcop-882573</td>\n",
       "      <td>https://www.brides.com/story/teen-mom-jenelle-...</td>\n",
       "      <td>Teen Mom Star Jenelle Evans' Wedding Dress Is ...</td>\n",
       "      <td>912371411146149888\\t912371528343408641\\t912372...</td>\n",
       "    </tr>\n",
       "    <tr>\n",
       "      <td>1</td>\n",
       "      <td>gossipcop-875924</td>\n",
       "      <td>https://www.dailymail.co.uk/tvshowbiz/article-...</td>\n",
       "      <td>Kylie Jenner refusing to discuss Tyga on Life ...</td>\n",
       "      <td>901989917546426369\\t901989992074969089\\t901990...</td>\n",
       "    </tr>\n",
       "    <tr>\n",
       "      <td>2</td>\n",
       "      <td>gossipcop-894416</td>\n",
       "      <td>https://en.wikipedia.org/wiki/Quinn_Perkins</td>\n",
       "      <td>Quinn Perkins</td>\n",
       "      <td>931263637246881792\\t931265332022579201\\t931265...</td>\n",
       "    </tr>\n",
       "    <tr>\n",
       "      <td>3</td>\n",
       "      <td>gossipcop-857248</td>\n",
       "      <td>https://www.refinery29.com/en-us/2018/03/19192...</td>\n",
       "      <td>I Tried Kim Kardashian's Butt Workout &amp; Am For...</td>\n",
       "      <td>868114761723936769\\t868122567910936576\\t868128...</td>\n",
       "    </tr>\n",
       "    <tr>\n",
       "      <td>4</td>\n",
       "      <td>gossipcop-884684</td>\n",
       "      <td>https://www.cnn.com/2017/10/04/entertainment/c...</td>\n",
       "      <td>Celine Dion donates concert proceeds to Vegas ...</td>\n",
       "      <td>915528047004209152\\t915529285171122176\\t915530...</td>\n",
       "    </tr>\n",
       "    <tr>\n",
       "      <td>...</td>\n",
       "      <td>...</td>\n",
       "      <td>...</td>\n",
       "      <td>...</td>\n",
       "      <td>...</td>\n",
       "    </tr>\n",
       "    <tr>\n",
       "      <td>16811</td>\n",
       "      <td>gossipcop-907293</td>\n",
       "      <td>https://galoremag.com/gigi-zayn-best-idea-vale...</td>\n",
       "      <td>Gigi &amp; Zayn Gave Us the Best Idea For a Valent...</td>\n",
       "      <td>954105898137473024\\t954107180852097025\\t954107...</td>\n",
       "    </tr>\n",
       "    <tr>\n",
       "      <td>16812</td>\n",
       "      <td>gossipcop-891749</td>\n",
       "      <td>https://omgcheckitout.com/2017-hollywood-film-...</td>\n",
       "      <td>2017 Hollywood Film Awards: The Complete List ...</td>\n",
       "      <td>927385466357260288\\t927386601034010625\\t927387...</td>\n",
       "    </tr>\n",
       "    <tr>\n",
       "      <td>16813</td>\n",
       "      <td>gossipcop-941486</td>\n",
       "      <td>https://pagesix.com/2018/06/04/jada-pinkett-sm...</td>\n",
       "      <td>Jada Pinkett Smith explains why son Jaden move...</td>\n",
       "      <td>1004044947006386178\\t1004045964401889285\\t1004...</td>\n",
       "    </tr>\n",
       "    <tr>\n",
       "      <td>16814</td>\n",
       "      <td>gossipcop-953143</td>\n",
       "      <td>https://www.etonline.com/tinsley-mortimer-reac...</td>\n",
       "      <td>Tinsley Mortimer Reacts to Luann de Lesseps' R...</td>\n",
       "      <td>1019924845889572864\\t1019925702676709377\\t1019...</td>\n",
       "    </tr>\n",
       "    <tr>\n",
       "      <td>16815</td>\n",
       "      <td>gossipcop-954366</td>\n",
       "      <td>https://www.healthbreakingnews.net/2018/07/pri...</td>\n",
       "      <td>Prince Harry Carries on Princess Diana’s Legac...</td>\n",
       "      <td>1021766291139584000\\t1021772054599802880\\t1021...</td>\n",
       "    </tr>\n",
       "  </tbody>\n",
       "</table>\n",
       "<p>15747 rows × 4 columns</p>\n",
       "</div>"
      ],
      "text/plain": [
       "                     id                                           news_url  \\\n",
       "0      gossipcop-882573  https://www.brides.com/story/teen-mom-jenelle-...   \n",
       "1      gossipcop-875924  https://www.dailymail.co.uk/tvshowbiz/article-...   \n",
       "2      gossipcop-894416        https://en.wikipedia.org/wiki/Quinn_Perkins   \n",
       "3      gossipcop-857248  https://www.refinery29.com/en-us/2018/03/19192...   \n",
       "4      gossipcop-884684  https://www.cnn.com/2017/10/04/entertainment/c...   \n",
       "...                 ...                                                ...   \n",
       "16811  gossipcop-907293  https://galoremag.com/gigi-zayn-best-idea-vale...   \n",
       "16812  gossipcop-891749  https://omgcheckitout.com/2017-hollywood-film-...   \n",
       "16813  gossipcop-941486  https://pagesix.com/2018/06/04/jada-pinkett-sm...   \n",
       "16814  gossipcop-953143  https://www.etonline.com/tinsley-mortimer-reac...   \n",
       "16815  gossipcop-954366  https://www.healthbreakingnews.net/2018/07/pri...   \n",
       "\n",
       "                                                   title  \\\n",
       "0      Teen Mom Star Jenelle Evans' Wedding Dress Is ...   \n",
       "1      Kylie Jenner refusing to discuss Tyga on Life ...   \n",
       "2                                          Quinn Perkins   \n",
       "3      I Tried Kim Kardashian's Butt Workout & Am For...   \n",
       "4      Celine Dion donates concert proceeds to Vegas ...   \n",
       "...                                                  ...   \n",
       "16811  Gigi & Zayn Gave Us the Best Idea For a Valent...   \n",
       "16812  2017 Hollywood Film Awards: The Complete List ...   \n",
       "16813  Jada Pinkett Smith explains why son Jaden move...   \n",
       "16814  Tinsley Mortimer Reacts to Luann de Lesseps' R...   \n",
       "16815  Prince Harry Carries on Princess Diana’s Legac...   \n",
       "\n",
       "                                               tweet_ids  \n",
       "0      912371411146149888\\t912371528343408641\\t912372...  \n",
       "1      901989917546426369\\t901989992074969089\\t901990...  \n",
       "2      931263637246881792\\t931265332022579201\\t931265...  \n",
       "3      868114761723936769\\t868122567910936576\\t868128...  \n",
       "4      915528047004209152\\t915529285171122176\\t915530...  \n",
       "...                                                  ...  \n",
       "16811  954105898137473024\\t954107180852097025\\t954107...  \n",
       "16812  927385466357260288\\t927386601034010625\\t927387...  \n",
       "16813  1004044947006386178\\t1004045964401889285\\t1004...  \n",
       "16814  1019924845889572864\\t1019925702676709377\\t1019...  \n",
       "16815  1021766291139584000\\t1021772054599802880\\t1021...  \n",
       "\n",
       "[15747 rows x 4 columns]"
      ]
     },
     "execution_count": 95,
     "metadata": {},
     "output_type": "execute_result"
    }
   ],
   "source": [
    "df.dropna()"
   ]
  },
  {
   "cell_type": "code",
   "execution_count": 74,
   "metadata": {},
   "outputs": [],
   "source": [
    "#Only for politifact dataset\n",
    "def separate(df):\n",
    "    if pd.isnull(df['tweet_ids']):\n",
    "        return 0\n",
    "    else:\n",
    "        length = len(df['tweet_ids'].split(\"\\t\"))\n",
    "        return length"
   ]
  },
  {
   "cell_type": "code",
   "execution_count": 96,
   "metadata": {},
   "outputs": [],
   "source": [
    "df['no_of_retweets'] = df.apply(separate, axis=1)"
   ]
  },
  {
   "cell_type": "code",
   "execution_count": 97,
   "metadata": {},
   "outputs": [],
   "source": [
    "df.drop('tweet_ids', axis='columns', inplace=True)"
   ]
  },
  {
   "cell_type": "code",
   "execution_count": 98,
   "metadata": {},
   "outputs": [],
   "source": [
    "df.drop('id', axis='columns', inplace=True)"
   ]
  },
  {
   "cell_type": "code",
   "execution_count": 99,
   "metadata": {
    "scrolled": true
   },
   "outputs": [],
   "source": [
    "df['label'] = 0                                      #Label is 0 for true values and 1 for false values"
   ]
  },
  {
   "cell_type": "code",
   "execution_count": 100,
   "metadata": {},
   "outputs": [
    {
     "data": {
      "text/html": [
       "<div>\n",
       "<style scoped>\n",
       "    .dataframe tbody tr th:only-of-type {\n",
       "        vertical-align: middle;\n",
       "    }\n",
       "\n",
       "    .dataframe tbody tr th {\n",
       "        vertical-align: top;\n",
       "    }\n",
       "\n",
       "    .dataframe thead th {\n",
       "        text-align: right;\n",
       "    }\n",
       "</style>\n",
       "<table border=\"1\" class=\"dataframe\">\n",
       "  <thead>\n",
       "    <tr style=\"text-align: right;\">\n",
       "      <th></th>\n",
       "      <th>news_url</th>\n",
       "      <th>title</th>\n",
       "      <th>no_of_retweets</th>\n",
       "      <th>label</th>\n",
       "    </tr>\n",
       "  </thead>\n",
       "  <tbody>\n",
       "    <tr>\n",
       "      <td>0</td>\n",
       "      <td>https://www.brides.com/story/teen-mom-jenelle-...</td>\n",
       "      <td>Teen Mom Star Jenelle Evans' Wedding Dress Is ...</td>\n",
       "      <td>67</td>\n",
       "      <td>0</td>\n",
       "    </tr>\n",
       "    <tr>\n",
       "      <td>1</td>\n",
       "      <td>https://www.dailymail.co.uk/tvshowbiz/article-...</td>\n",
       "      <td>Kylie Jenner refusing to discuss Tyga on Life ...</td>\n",
       "      <td>51</td>\n",
       "      <td>0</td>\n",
       "    </tr>\n",
       "    <tr>\n",
       "      <td>2</td>\n",
       "      <td>https://en.wikipedia.org/wiki/Quinn_Perkins</td>\n",
       "      <td>Quinn Perkins</td>\n",
       "      <td>48</td>\n",
       "      <td>0</td>\n",
       "    </tr>\n",
       "    <tr>\n",
       "      <td>3</td>\n",
       "      <td>https://www.refinery29.com/en-us/2018/03/19192...</td>\n",
       "      <td>I Tried Kim Kardashian's Butt Workout &amp; Am For...</td>\n",
       "      <td>53</td>\n",
       "      <td>0</td>\n",
       "    </tr>\n",
       "    <tr>\n",
       "      <td>4</td>\n",
       "      <td>https://www.cnn.com/2017/10/04/entertainment/c...</td>\n",
       "      <td>Celine Dion donates concert proceeds to Vegas ...</td>\n",
       "      <td>291</td>\n",
       "      <td>0</td>\n",
       "    </tr>\n",
       "  </tbody>\n",
       "</table>\n",
       "</div>"
      ],
      "text/plain": [
       "                                            news_url  \\\n",
       "0  https://www.brides.com/story/teen-mom-jenelle-...   \n",
       "1  https://www.dailymail.co.uk/tvshowbiz/article-...   \n",
       "2        https://en.wikipedia.org/wiki/Quinn_Perkins   \n",
       "3  https://www.refinery29.com/en-us/2018/03/19192...   \n",
       "4  https://www.cnn.com/2017/10/04/entertainment/c...   \n",
       "\n",
       "                                               title  no_of_retweets  label  \n",
       "0  Teen Mom Star Jenelle Evans' Wedding Dress Is ...              67      0  \n",
       "1  Kylie Jenner refusing to discuss Tyga on Life ...              51      0  \n",
       "2                                      Quinn Perkins              48      0  \n",
       "3  I Tried Kim Kardashian's Butt Workout & Am For...              53      0  \n",
       "4  Celine Dion donates concert proceeds to Vegas ...             291      0  "
      ]
     },
     "execution_count": 100,
     "metadata": {},
     "output_type": "execute_result"
    }
   ],
   "source": [
    "df.head()"
   ]
  },
  {
   "cell_type": "code",
   "execution_count": 114,
   "metadata": {},
   "outputs": [],
   "source": [
    "df['length'] = df['title'].apply(len)"
   ]
  },
  {
   "cell_type": "code",
   "execution_count": 115,
   "metadata": {},
   "outputs": [],
   "source": [
    "df.to_csv(path_or_buf = 'C://Users//manka//Documents//Predictive Analytics//Project//Final//phemedata1.csv')"
   ]
  }
 ],
 "metadata": {
  "kernelspec": {
   "display_name": "Python 3",
   "language": "python",
   "name": "python3"
  },
  "language_info": {
   "codemirror_mode": {
    "name": "ipython",
    "version": 3
   },
   "file_extension": ".py",
   "mimetype": "text/x-python",
   "name": "python",
   "nbconvert_exporter": "python",
   "pygments_lexer": "ipython3",
   "version": "3.7.4"
  }
 },
 "nbformat": 4,
 "nbformat_minor": 2
}
