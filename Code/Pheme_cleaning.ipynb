{
 "cells": [
  {
   "cell_type": "code",
   "execution_count": 19,
   "metadata": {},
   "outputs": [],
   "source": [
    "import pandas as pd\n",
    "import re\n",
    "import emoji\n",
    "import numpy as np\n",
    "from wordsegment import load, segment"
   ]
  },
  {
   "cell_type": "code",
   "execution_count": 21,
   "metadata": {},
   "outputs": [],
   "source": [
    "df = pd.read_csv(\"C://Users//manka//Documents//Predictive Analytics//Project//Final//phemedata1.csv\")"
   ]
  },
  {
   "cell_type": "code",
   "execution_count": 22,
   "metadata": {},
   "outputs": [],
   "source": [
    "del df['Unnamed: 0']"
   ]
  },
  {
   "cell_type": "code",
   "execution_count": 23,
   "metadata": {},
   "outputs": [
    {
     "data": {
      "text/html": [
       "<div>\n",
       "<style scoped>\n",
       "    .dataframe tbody tr th:only-of-type {\n",
       "        vertical-align: middle;\n",
       "    }\n",
       "\n",
       "    .dataframe tbody tr th {\n",
       "        vertical-align: top;\n",
       "    }\n",
       "\n",
       "    .dataframe thead th {\n",
       "        text-align: right;\n",
       "    }\n",
       "</style>\n",
       "<table border=\"1\" class=\"dataframe\">\n",
       "  <thead>\n",
       "    <tr style=\"text-align: right;\">\n",
       "      <th></th>\n",
       "      <th>news_url</th>\n",
       "      <th>title</th>\n",
       "      <th>no_of_retweets</th>\n",
       "      <th>label</th>\n",
       "      <th>length</th>\n",
       "    </tr>\n",
       "  </thead>\n",
       "  <tbody>\n",
       "    <tr>\n",
       "      <td>0</td>\n",
       "      <td>news.bbc.co.uk</td>\n",
       "      <td>Charlie Hebdo became well known for publishing...</td>\n",
       "      <td>202</td>\n",
       "      <td>0</td>\n",
       "      <td>82</td>\n",
       "    </tr>\n",
       "    <tr>\n",
       "      <td>1</td>\n",
       "      <td>order-order.com</td>\n",
       "      <td>Charlie Hebdo’s Last Tweet Before Shootings ht...</td>\n",
       "      <td>144</td>\n",
       "      <td>0</td>\n",
       "      <td>89</td>\n",
       "    </tr>\n",
       "    <tr>\n",
       "      <td>2</td>\n",
       "      <td>breitbart.com/Columnists/Jam…</td>\n",
       "      <td>Prediction: the #CharlieHebdo massacre will no...</td>\n",
       "      <td>103</td>\n",
       "      <td>0</td>\n",
       "      <td>95</td>\n",
       "    </tr>\n",
       "    <tr>\n",
       "      <td>3</td>\n",
       "      <td>order-order.com</td>\n",
       "      <td>10:28am Charlie Hebdo account mocks ISIS leade...</td>\n",
       "      <td>116</td>\n",
       "      <td>0</td>\n",
       "      <td>136</td>\n",
       "    </tr>\n",
       "    <tr>\n",
       "      <td>4</td>\n",
       "      <td>demos.co.uk/people/max_win…</td>\n",
       "      <td>If your faith isn't strong enough to cope with...</td>\n",
       "      <td>105</td>\n",
       "      <td>0</td>\n",
       "      <td>137</td>\n",
       "    </tr>\n",
       "  </tbody>\n",
       "</table>\n",
       "</div>"
      ],
      "text/plain": [
       "                        news_url  \\\n",
       "0                 news.bbc.co.uk   \n",
       "1                order-order.com   \n",
       "2  breitbart.com/Columnists/Jam…   \n",
       "3                order-order.com   \n",
       "4    demos.co.uk/people/max_win…   \n",
       "\n",
       "                                               title  no_of_retweets  label  \\\n",
       "0  Charlie Hebdo became well known for publishing...             202      0   \n",
       "1  Charlie Hebdo’s Last Tweet Before Shootings ht...             144      0   \n",
       "2  Prediction: the #CharlieHebdo massacre will no...             103      0   \n",
       "3  10:28am Charlie Hebdo account mocks ISIS leade...             116      0   \n",
       "4  If your faith isn't strong enough to cope with...             105      0   \n",
       "\n",
       "   length  \n",
       "0      82  \n",
       "1      89  \n",
       "2      95  \n",
       "3     136  \n",
       "4     137  "
      ]
     },
     "execution_count": 23,
     "metadata": {},
     "output_type": "execute_result"
    }
   ],
   "source": [
    "df.head()"
   ]
  },
  {
   "cell_type": "code",
   "execution_count": 24,
   "metadata": {},
   "outputs": [],
   "source": [
    "def preprocessing(tweet):\n",
    "    tweet = re.sub(\"@[A-Za-z0-9]+\",\"\",tweet)\n",
    "    tweet = re.sub(r\"(?:\\@|http?\\://|https?\\://|www)\\S+\", \"\", tweet)\n",
    "    tweet = \" \".join(tweet.split())\n",
    "    tweet = ''.join(c for c in tweet if c not in emoji.UNICODE_EMOJI)\n",
    "    if '#' in tweet:\n",
    "        tweet = tweet.replace(\"#\", \"\").replace(\"_\", \" \")\n",
    "    return tweet"
   ]
  },
  {
   "cell_type": "code",
   "execution_count": 25,
   "metadata": {},
   "outputs": [],
   "source": [
    "df['title'] = df['title'].map(lambda tweet: preprocessing(tweet))"
   ]
  },
  {
   "cell_type": "code",
   "execution_count": 26,
   "metadata": {},
   "outputs": [],
   "source": [
    "def url_processing(url):\n",
    "    url = url.replace('www.', \"\")\n",
    "    url = url.split('/')\n",
    "    if re.match(\"(?:\\@|http?\\://|https?\\:)\", url[0]):\n",
    "        return url[2]\n",
    "    else:\n",
    "        return url[0]"
   ]
  },
  {
   "cell_type": "code",
   "execution_count": 27,
   "metadata": {},
   "outputs": [],
   "source": [
    "df['news_url'] = df['news_url'].map(lambda url: url_processing(url))"
   ]
  },
  {
   "cell_type": "code",
   "execution_count": 28,
   "metadata": {},
   "outputs": [
    {
     "data": {
      "text/html": [
       "<div>\n",
       "<style scoped>\n",
       "    .dataframe tbody tr th:only-of-type {\n",
       "        vertical-align: middle;\n",
       "    }\n",
       "\n",
       "    .dataframe tbody tr th {\n",
       "        vertical-align: top;\n",
       "    }\n",
       "\n",
       "    .dataframe thead th {\n",
       "        text-align: right;\n",
       "    }\n",
       "</style>\n",
       "<table border=\"1\" class=\"dataframe\">\n",
       "  <thead>\n",
       "    <tr style=\"text-align: right;\">\n",
       "      <th></th>\n",
       "      <th>news_url</th>\n",
       "      <th>title</th>\n",
       "      <th>no_of_retweets</th>\n",
       "      <th>label</th>\n",
       "      <th>length</th>\n",
       "    </tr>\n",
       "  </thead>\n",
       "  <tbody>\n",
       "    <tr>\n",
       "      <td>0</td>\n",
       "      <td>news.bbc.co.uk</td>\n",
       "      <td>Charlie Hebdo became well known for publishing...</td>\n",
       "      <td>202</td>\n",
       "      <td>0</td>\n",
       "      <td>82</td>\n",
       "    </tr>\n",
       "    <tr>\n",
       "      <td>1</td>\n",
       "      <td>order-order.com</td>\n",
       "      <td>Charlie Hebdo’s Last Tweet Before Shootings</td>\n",
       "      <td>144</td>\n",
       "      <td>0</td>\n",
       "      <td>89</td>\n",
       "    </tr>\n",
       "    <tr>\n",
       "      <td>2</td>\n",
       "      <td>breitbart.com</td>\n",
       "      <td>Prediction: the CharlieHebdo massacre will not...</td>\n",
       "      <td>103</td>\n",
       "      <td>0</td>\n",
       "      <td>95</td>\n",
       "    </tr>\n",
       "    <tr>\n",
       "      <td>3</td>\n",
       "      <td>order-order.com</td>\n",
       "      <td>10:28am Charlie Hebdo account mocks ISIS leade...</td>\n",
       "      <td>116</td>\n",
       "      <td>0</td>\n",
       "      <td>136</td>\n",
       "    </tr>\n",
       "    <tr>\n",
       "      <td>4</td>\n",
       "      <td>demos.co.uk</td>\n",
       "      <td>If your faith isn't strong enough to cope with...</td>\n",
       "      <td>105</td>\n",
       "      <td>0</td>\n",
       "      <td>137</td>\n",
       "    </tr>\n",
       "  </tbody>\n",
       "</table>\n",
       "</div>"
      ],
      "text/plain": [
       "          news_url                                              title  \\\n",
       "0   news.bbc.co.uk  Charlie Hebdo became well known for publishing...   \n",
       "1  order-order.com        Charlie Hebdo’s Last Tweet Before Shootings   \n",
       "2    breitbart.com  Prediction: the CharlieHebdo massacre will not...   \n",
       "3  order-order.com  10:28am Charlie Hebdo account mocks ISIS leade...   \n",
       "4      demos.co.uk  If your faith isn't strong enough to cope with...   \n",
       "\n",
       "   no_of_retweets  label  length  \n",
       "0             202      0      82  \n",
       "1             144      0      89  \n",
       "2             103      0      95  \n",
       "3             116      0     136  \n",
       "4             105      0     137  "
      ]
     },
     "execution_count": 28,
     "metadata": {},
     "output_type": "execute_result"
    }
   ],
   "source": [
    "df.head()"
   ]
  },
  {
   "cell_type": "code",
   "execution_count": 16,
   "metadata": {},
   "outputs": [],
   "source": [
    "df.to_csv(path_or_buf = 'C://Users//manka//Documents//Predictive Analytics//Project//Final//phemedata_cleaned.csv')"
   ]
  },
  {
   "cell_type": "markdown",
   "metadata": {},
   "source": [
    "Now to merge both the cleaned databases into a single database. Make sure the politifact dataset is cleaned using the Politifact_cleaning notebook"
   ]
  },
  {
   "cell_type": "code",
   "execution_count": 29,
   "metadata": {},
   "outputs": [],
   "source": [
    "df1 = pd.read_csv(\"C://Users//manka//Documents//Predictive Analytics//Project//Final//politifact_cleaned.csv\")"
   ]
  },
  {
   "cell_type": "code",
   "execution_count": 30,
   "metadata": {},
   "outputs": [],
   "source": [
    "del df1['Unnamed: 0']"
   ]
  },
  {
   "cell_type": "code",
   "execution_count": 32,
   "metadata": {},
   "outputs": [
    {
     "data": {
      "text/html": [
       "<div>\n",
       "<style scoped>\n",
       "    .dataframe tbody tr th:only-of-type {\n",
       "        vertical-align: middle;\n",
       "    }\n",
       "\n",
       "    .dataframe tbody tr th {\n",
       "        vertical-align: top;\n",
       "    }\n",
       "\n",
       "    .dataframe thead th {\n",
       "        text-align: right;\n",
       "    }\n",
       "</style>\n",
       "<table border=\"1\" class=\"dataframe\">\n",
       "  <thead>\n",
       "    <tr style=\"text-align: right;\">\n",
       "      <th></th>\n",
       "      <th>news_url</th>\n",
       "      <th>title</th>\n",
       "      <th>no_of_retweets</th>\n",
       "      <th>label</th>\n",
       "      <th>length</th>\n",
       "    </tr>\n",
       "  </thead>\n",
       "  <tbody>\n",
       "    <tr>\n",
       "      <td>0</td>\n",
       "      <td>speedtalk.com</td>\n",
       "      <td>BREAKING: First NFL Team Declares Bankruptcy O...</td>\n",
       "      <td>163</td>\n",
       "      <td>1</td>\n",
       "      <td>64</td>\n",
       "    </tr>\n",
       "    <tr>\n",
       "      <td>1</td>\n",
       "      <td>politics2020.info</td>\n",
       "      <td>Court Orders Obama To Pay $400 Million In Rest...</td>\n",
       "      <td>102</td>\n",
       "      <td>1</td>\n",
       "      <td>53</td>\n",
       "    </tr>\n",
       "    <tr>\n",
       "      <td>2</td>\n",
       "      <td>nscdscamps.org</td>\n",
       "      <td>UPDATE: Second Roy Moore Accuser Works For Mic...</td>\n",
       "      <td>220</td>\n",
       "      <td>1</td>\n",
       "      <td>69</td>\n",
       "    </tr>\n",
       "    <tr>\n",
       "      <td>3</td>\n",
       "      <td>howafrica.com</td>\n",
       "      <td>Oscar Pistorius Attempts To Commit Suicide</td>\n",
       "      <td>22</td>\n",
       "      <td>1</td>\n",
       "      <td>42</td>\n",
       "    </tr>\n",
       "    <tr>\n",
       "      <td>4</td>\n",
       "      <td>washingtonsources.org</td>\n",
       "      <td>Trump Votes For Death Penalty For Being Gay</td>\n",
       "      <td>550</td>\n",
       "      <td>1</td>\n",
       "      <td>43</td>\n",
       "    </tr>\n",
       "  </tbody>\n",
       "</table>\n",
       "</div>"
      ],
      "text/plain": [
       "                news_url                                              title  \\\n",
       "0          speedtalk.com  BREAKING: First NFL Team Declares Bankruptcy O...   \n",
       "1      politics2020.info  Court Orders Obama To Pay $400 Million In Rest...   \n",
       "2         nscdscamps.org  UPDATE: Second Roy Moore Accuser Works For Mic...   \n",
       "3          howafrica.com         Oscar Pistorius Attempts To Commit Suicide   \n",
       "4  washingtonsources.org        Trump Votes For Death Penalty For Being Gay   \n",
       "\n",
       "   no_of_retweets  label  length  \n",
       "0             163      1      64  \n",
       "1             102      1      53  \n",
       "2             220      1      69  \n",
       "3              22      1      42  \n",
       "4             550      1      43  "
      ]
     },
     "execution_count": 32,
     "metadata": {},
     "output_type": "execute_result"
    }
   ],
   "source": [
    "df1.head()"
   ]
  },
  {
   "cell_type": "code",
   "execution_count": 33,
   "metadata": {},
   "outputs": [],
   "source": [
    "final = pd.concat([df1,df])"
   ]
  },
  {
   "cell_type": "code",
   "execution_count": 34,
   "metadata": {},
   "outputs": [
    {
     "name": "stdout",
     "output_type": "stream",
     "text": [
      "<class 'pandas.core.frame.DataFrame'>\n",
      "Int64Index: 4057 entries, 0 to 3000\n",
      "Data columns (total 5 columns):\n",
      "news_url          4057 non-null object\n",
      "title             4057 non-null object\n",
      "no_of_retweets    4057 non-null int64\n",
      "label             4057 non-null int64\n",
      "length            4057 non-null int64\n",
      "dtypes: int64(3), object(2)\n",
      "memory usage: 190.2+ KB\n"
     ]
    }
   ],
   "source": [
    "final.info()"
   ]
  },
  {
   "cell_type": "code",
   "execution_count": 35,
   "metadata": {},
   "outputs": [],
   "source": [
    "final.to_csv(path_or_buf = 'C://Users//manka//Documents//Predictive Analytics//Project//Final//final_data.csv')"
   ]
  }
 ],
 "metadata": {
  "kernelspec": {
   "display_name": "Python 3",
   "language": "python",
   "name": "python3"
  },
  "language_info": {
   "codemirror_mode": {
    "name": "ipython",
    "version": 3
   },
   "file_extension": ".py",
   "mimetype": "text/x-python",
   "name": "python",
   "nbconvert_exporter": "python",
   "pygments_lexer": "ipython3",
   "version": "3.7.4"
  }
 },
 "nbformat": 4,
 "nbformat_minor": 2
}
